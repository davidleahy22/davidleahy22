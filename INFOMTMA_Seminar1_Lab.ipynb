{
  "nbformat": 4,
  "nbformat_minor": 0,
  "metadata": {
    "colab": {
      "provenance": [],
      "include_colab_link": true
    },
    "kernelspec": {
      "name": "python3",
      "display_name": "Python 3"
    },
    "language_info": {
      "name": "python"
    }
  },
  "cells": [
    {
      "cell_type": "markdown",
      "metadata": {
        "id": "view-in-github",
        "colab_type": "text"
      },
      "source": [
        "<a href=\"https://colab.research.google.com/github/davidleahy22/davidleahy22/blob/main/INFOMTMA_Seminar1_Lab.ipynb\" target=\"_parent\"><img src=\"https://colab.research.google.com/assets/colab-badge.svg\" alt=\"Open In Colab\"/></a>"
      ]
    },
    {
      "cell_type": "markdown",
      "source": [
        "# Text and Media Analytics\n",
        "Seminar 1 Lab\n",
        "\n",
        "This is the Google Colab notebook accompanying the second lecture of the Applied Data Science Text and Media Analytics course at Utrecht University. It exemplifies\n",
        "\n",
        "1.   Text preprocessing\n",
        "2.   Counting words\n",
        "3.   TF-IDF & K-means\n",
        "\n",
        "Some of the code is © Joris Veerbeek, taken from the [course manual](https://jveerbeek.gitlab.io/data-mining/index.html#) for this course in 2021.\n"
      ],
      "metadata": {
        "id": "jC_JXLnh-0J5"
      }
    },
    {
      "cell_type": "markdown",
      "source": [
        "# Tokenization\n",
        "Everything starts at a basis. For text analytics, this is *tokenization*.\n",
        "\n",
        "Before we can do the cool and interesting stuff (read: do the analysis) with texts, the first step in textual analysis - in most cases - is to tokenize them. That is, we want to convert a string, or a list of strings, into a list of tokens…\n",
        "\n",
        "This might seem like a simple task, but there are several ways to do that, with all slightly different results. The core idea is to use the space as a natural separator (delimiter) between words, and additionally you want to separate punctuation from words. You may want to keep some strings with punctuation together, such as abbreviations, email addresses, URLs, and words with hashtags or '@' in front of them.\n",
        "\n",
        "And that is not all; the tokenization task also blends in with the sentence detection task (not all sentences end in ., ? or !, not everything is a sentence) and the detection of pairs of matching quotes. In the end, tokenization requires language-specific knowledge on abbreviations and specific punctuation rules. An example of an elaborate rule-based tokenizer is [Ucto](https://languagemachines.github.io/ucto/). We will get to Ucto later.\n",
        "\n",
        "# (Almost) pure Python\n",
        "The simplest way to tokenize a text, is to “just” use spaces as boundaries. Let’s say we have some text:"
      ],
      "metadata": {
        "id": "zKi40AVMDUbj"
      }
    },
    {
      "cell_type": "code",
      "source": [
        "text = \"This is a simple sentence. Simple methods work great on simple sentences!\""
      ],
      "metadata": {
        "id": "U0UV4W3eDeMj"
      },
      "execution_count": 1,
      "outputs": []
    },
    {
      "cell_type": "markdown",
      "source": [
        "Then we can just split it using Python’s `split()`."
      ],
      "metadata": {
        "id": "wrACbudgDi8K"
      }
    },
    {
      "cell_type": "code",
      "source": [
        "tokenized_text = text.split()\n",
        "print(tokenized_text)"
      ],
      "metadata": {
        "colab": {
          "base_uri": "https://localhost:8080/"
        },
        "id": "TIy-iZp_DrDu",
        "outputId": "b8acd751-a0e6-4fe2-e156-2debafdad67a"
      },
      "execution_count": 2,
      "outputs": [
        {
          "output_type": "stream",
          "name": "stdout",
          "text": [
            "['This', 'is', 'a', 'simple', 'sentence.', 'Simple', 'methods', 'work', 'great', 'on', 'simple', 'sentences!']\n"
          ]
        }
      ]
    },
    {
      "cell_type": "markdown",
      "source": [
        "This looks reasonable, but not great. In most cases, we at least want the punctuation removed. So let’s do that:"
      ],
      "metadata": {
        "id": "SGe9pWnEDz0W"
      }
    },
    {
      "cell_type": "code",
      "source": [
        "punctuations = '!\"#$%&\\'()*+,-./:;<=>?@[\\\\]^_`{|}~'\n",
        "for punctuation in punctuations:\n",
        "    text = text.replace(punctuation, '')\n",
        "tokenized_text_nopunct = text.split()\n",
        "print(tokenized_text_nopunct)\n"
      ],
      "metadata": {
        "colab": {
          "base_uri": "https://localhost:8080/"
        },
        "id": "yY1nfuGjD-dR",
        "outputId": "d88fc0e5-d10d-456e-e9ea-0b78f0f19484"
      },
      "execution_count": 3,
      "outputs": [
        {
          "output_type": "stream",
          "name": "stdout",
          "text": [
            "['This', 'is', 'a', 'simple', 'sentence', 'Simple', 'methods', 'work', 'great', 'on', 'simple', 'sentences']\n"
          ]
        }
      ]
    },
    {
      "cell_type": "markdown",
      "source": [
        "Finally, we want all words converted to lowercase:"
      ],
      "metadata": {
        "id": "jh-uYdunEECE"
      }
    },
    {
      "cell_type": "code",
      "source": [
        "tokenized_text_lwc = [word.lower() for word in tokenized_text_nopunct]"
      ],
      "metadata": {
        "id": "JMgMwwgFEG8v"
      },
      "execution_count": 4,
      "outputs": []
    },
    {
      "cell_type": "markdown",
      "source": [
        "Wrapping this up in a nice function:"
      ],
      "metadata": {
        "id": "f4H5NK1QEMbt"
      }
    },
    {
      "cell_type": "code",
      "source": [
        "def tokenize(text):\n",
        "    punctuations = '!\"#$%&\\'()*+,-./:;<=>?@[\\\\]^_`{|}~'\n",
        "    for punctuation in punctuations:\n",
        "        text = text.replace(punctuation, '')\n",
        "    text = text.lower()\n",
        "    text = text.split()\n",
        "    return text\n",
        "\n",
        "tokenized_text = tokenize(text)\n",
        "print(tokenized_text)\n"
      ],
      "metadata": {
        "colab": {
          "base_uri": "https://localhost:8080/"
        },
        "id": "9hCsy-0tENuh",
        "outputId": "94e6f3a4-61e7-44cd-f618-00f03b05e5e0"
      },
      "execution_count": 19,
      "outputs": [
        {
          "output_type": "stream",
          "name": "stdout",
          "text": [
            "['this', 'is', 'a', 'simple', 'sentence', 'but', 'the', 'next', 'one', 'isnt', 'theres', 'more', 'to', 'tokenization', 'than', 'just', 'separating', 'on', 'spacesnever', 'forget', 'that']\n"
          ]
        }
      ]
    },
    {
      "cell_type": "markdown",
      "source": [
        "# Counting words\n",
        "\n",
        "Once we have a tokenized text, we can count the occurence of a given word using Python’s `count`."
      ],
      "metadata": {
        "id": "MvOQ7z1A1vXs"
      }
    },
    {
      "cell_type": "code",
      "source": [
        "count_this = tokenized_text.count('simple')\n",
        "print(count_this)"
      ],
      "metadata": {
        "colab": {
          "base_uri": "https://localhost:8080/"
        },
        "id": "MXaTApI92BTM",
        "outputId": "591a3f4c-9fe4-4689-b4b2-943110a234e6"
      },
      "execution_count": 6,
      "outputs": [
        {
          "output_type": "stream",
          "name": "stdout",
          "text": [
            "3\n"
          ]
        }
      ]
    },
    {
      "cell_type": "markdown",
      "source": [
        "To get the most frequent words of a tokenized text, we can use Python’s `Counter` objects. This returns a dictionary like object with the words stored as keys and the counts as values:"
      ],
      "metadata": {
        "id": "B94_1hSL2Kp5"
      }
    },
    {
      "cell_type": "code",
      "source": [
        "from collections import Counter\n",
        "tokenized_text = ['this', 'text', 'is', 'a', 'tokenized', 'text', 'A']\n",
        "\n",
        "word_counts = Counter(tokenized_text)\n",
        "word_counts\n"
      ],
      "metadata": {
        "colab": {
          "base_uri": "https://localhost:8080/"
        },
        "id": "yv8KN5iS2TcI",
        "outputId": "208e33d9-bf55-469f-b8de-f186677ba5f1"
      },
      "execution_count": 9,
      "outputs": [
        {
          "output_type": "execute_result",
          "data": {
            "text/plain": [
              "Counter({'this': 1, 'text': 2, 'is': 1, 'a': 1, 'tokenized': 1, 'A': 1})"
            ]
          },
          "metadata": {},
          "execution_count": 9
        }
      ]
    },
    {
      "cell_type": "markdown",
      "source": [
        "We can then sort this object using `most_common` to get the most frequent words:"
      ],
      "metadata": {
        "id": "62KZPmkK2b59"
      }
    },
    {
      "cell_type": "code",
      "source": [
        "word_counts.most_common()[:20] # n = 20"
      ],
      "metadata": {
        "colab": {
          "base_uri": "https://localhost:8080/"
        },
        "id": "u1lb3x8H2dgE",
        "outputId": "a97583c7-f16a-4386-b246-95ae9fe4b3fe"
      },
      "execution_count": 10,
      "outputs": [
        {
          "output_type": "execute_result",
          "data": {
            "text/plain": [
              "[('text', 2), ('this', 1), ('is', 1), ('a', 1), ('tokenized', 1), ('A', 1)]"
            ]
          },
          "metadata": {},
          "execution_count": 10
        }
      ]
    },
    {
      "cell_type": "markdown",
      "source": [
        "When we want to get the most frequent words in a collection of texts, we have to concatenate these texts first. We can do this using the following `flatten` function:"
      ],
      "metadata": {
        "id": "plrxBI4D21u2"
      }
    },
    {
      "cell_type": "code",
      "source": [
        "flatten = lambda t: [item for sublist in t for item in sublist]\n",
        "\n",
        "tokenized_texts =  [['this', 'text', 'is', 'a', 'tokenized', 'text'],\n",
        "                ['this', 'is', 'also', 'a', 'tokenized', 'text']]\n",
        "tokenized_texts_concat = flatten(tokenized_texts)\n",
        "\n",
        "word_counts = Counter(tokenized_texts_concat)\n",
        "word_counts.most_common()[:20] # n = 20"
      ],
      "metadata": {
        "colab": {
          "base_uri": "https://localhost:8080/"
        },
        "id": "hN5WW3vi26cs",
        "outputId": "1aa23963-9ad7-45cd-a117-eaea34195a4e"
      },
      "execution_count": 11,
      "outputs": [
        {
          "output_type": "execute_result",
          "data": {
            "text/plain": [
              "[('text', 3), ('this', 2), ('is', 2), ('a', 2), ('tokenized', 2), ('also', 1)]"
            ]
          },
          "metadata": {},
          "execution_count": 11
        }
      ]
    },
    {
      "cell_type": "markdown",
      "source": [
        "# Ucto\n",
        "\n",
        "[Ucto](https://languagemachines.github.io/ucto/) is a rule-based tokenizer. It has a Python binding that first needs to be installed."
      ],
      "metadata": {
        "id": "qQHOdEUNry3q"
      }
    },
    {
      "cell_type": "code",
      "source": [
        "!pip install python-ucto\n",
        "import ucto\n",
        "ucto.installdata()"
      ],
      "metadata": {
        "colab": {
          "base_uri": "https://localhost:8080/"
        },
        "id": "BpXm2v5Is8An",
        "outputId": "937da4f6-58c2-49bf-cbaf-8fd839f4e51e"
      },
      "execution_count": 12,
      "outputs": [
        {
          "output_type": "stream",
          "name": "stdout",
          "text": [
            "Collecting python-ucto\n",
            "  Downloading python_ucto-0.6.7-cp310-cp310-manylinux_2_17_x86_64.manylinux2014_x86_64.whl (22.3 MB)\n",
            "\u001b[2K     \u001b[90m━━━━━━━━━━━━━━━━━━━━━━━━━━━━━━━━━━━━━━━━\u001b[0m \u001b[32m22.3/22.3 MB\u001b[0m \u001b[31m59.5 MB/s\u001b[0m eta \u001b[36m0:00:00\u001b[0m\n",
            "\u001b[?25hRequirement already satisfied: Cython in /usr/local/lib/python3.10/dist-packages (from python-ucto) (3.0.5)\n",
            "Installing collected packages: python-ucto\n",
            "Successfully installed python-ucto-0.6.7\n"
          ]
        },
        {
          "output_type": "stream",
          "name": "stderr",
          "text": [
            "Installation of uctodata 0.9.1 complete\n",
            "Language detection will not be available unless you install libexttextcat and rerun installdata()\n"
          ]
        }
      ]
    },
    {
      "cell_type": "markdown",
      "source": [
        "Let us initialize an English tokenizer. The configuration files supplied with ucto are named tokconfig-xxx where xxx corresponds to a three letter iso-639-3 language code. There is also a tokconfig-generic one that has no language-specific rules. Alternatively, you can make and supply your own configuration file. Note that for older versions of ucto you may need to provide the absolute path, but the latest versions will find the configurations supplied with ucto automatically. See [here](https://github.com/LanguageMachines/uctodata/tree/master/config) for a list of available configuration in the latest version."
      ],
      "metadata": {
        "id": "wmfe_w6Mtc5t"
      }
    },
    {
      "cell_type": "code",
      "source": [
        "import ucto\n",
        "configurationfile = \"tokconfig-eng\"\n",
        "tokenizer = ucto.Tokenizer(configurationfile)"
      ],
      "metadata": {
        "id": "RipjneM-tgn1"
      },
      "execution_count": 13,
      "outputs": []
    },
    {
      "cell_type": "markdown",
      "source": [
        "Now let's take the sample text from before and tokenize it. Ucto separates words delimited by spaces, and separates punctuation from letter strings. It also detects the beginning and end of sentences, and remembers for each token whether it was preceded by a space.\n",
        "\n",
        "Furthermore, it detects certain language-specific contractions that are usually split, such as \"isn't\" into \"is\" and \"n't\" and \"There's\" into \"There\" and \"'s\". Note again that Ucto remembers that the second tokens from these contractions were not preceded by a space in the original sentence; in this sample output this is expressed by not printing a space in front."
      ],
      "metadata": {
        "id": "FkgCcICVuWUi"
      }
    },
    {
      "cell_type": "code",
      "source": [
        "#pass the text (a str) (may be called multiple times),\n",
        "text = \"This is a simple sentence, but the next one isn't. There's more to tokenization than just separating on spaces--never forget that!\"\n",
        "tokenizer.process(text)\n",
        "\n",
        "#read the tokenised data\n",
        "for token in tokenizer:\n",
        "    #token is an instance of ucto.Token, serialise to string using str()\n",
        "    print(str(token))\n",
        "\n",
        "    #tokens remember whether they are followed by a space\n",
        "    if token.isendofsentence():\n",
        "        print()\n",
        "    elif not token.nospace():\n",
        "        print(\" \",end=\"\")"
      ],
      "metadata": {
        "colab": {
          "base_uri": "https://localhost:8080/"
        },
        "id": "EyxDtU5GuB--",
        "outputId": "ae7ec1a6-4ff5-4a20-ea80-1e371f3aafb5"
      },
      "execution_count": 14,
      "outputs": [
        {
          "output_type": "stream",
          "name": "stdout",
          "text": [
            "This\n",
            " is\n",
            " a\n",
            " simple\n",
            " sentence\n",
            ",\n",
            " but\n",
            " the\n",
            " next\n",
            " one\n",
            " is\n",
            "n't\n",
            ".\n",
            "\n",
            "There\n",
            "'s\n",
            " more\n",
            " to\n",
            " tokenization\n",
            " than\n",
            " just\n",
            " separating\n",
            " on\n",
            " spaces\n",
            "--\n",
            "never\n",
            " forget\n",
            " that\n",
            "!\n",
            "\n"
          ]
        }
      ]
    },
    {
      "cell_type": "markdown",
      "source": [
        "Ucto can also detect pairs of quotes and beginnings and ends of paragraphs. It can lowercase or uppercase all text. It also has several options for reading and writing sentences per line or not; e.g., sometimes your text is already separated into single sentences per line and you do not need Ucto to figure that out. Furthermore, Ucto is quite fast and can also be run on the commandline. See the [webpage](https://languagemachines.github.io/ucto/) for further information."
      ],
      "metadata": {
        "id": "cI2ocKZjvcES"
      }
    },
    {
      "cell_type": "markdown",
      "source": [
        "# Seminar 1 Exercises\n",
        "\n",
        "A) Simple text processing\n",
        "\n",
        "B) Pre-processing & Exploring tweets\n",
        "\n"
      ],
      "metadata": {
        "id": "EatMu13MMTGJ"
      }
    },
    {
      "cell_type": "markdown",
      "source": [
        "##### A.1) Take a look at the following paragraph from a news article:\n",
        "\n",
        "***But the origins of these reptiles have remained murky because of a lack of fossils from the earliest fliers. “The oldest pterosaur we have already had wings and were capable fliers,” said Davide Foffa, a paleontologist at Virginia Tech, which makes it difficult to chart their aerial evolution (https://www.nytimes.com/2022/10/05/science/pterosaurs-reptiles-wings.html).***"
      ],
      "metadata": {
        "id": "dYimUNzPMivI"
      }
    },
    {
      "cell_type": "markdown",
      "source": [
        "First, tokenize the sentence yourself manually (i.e,. convert into tokens manually, without any code - including the url)."
      ],
      "metadata": {
        "id": "tCCTyGYFMn4_"
      }
    },
    {
      "cell_type": "code",
      "source": [
        "#answer\n",
        "text_to_tokenise = \"But the origins of these reptiles have remained murky because of a lack of fossils from the earliest fliers. “The oldest pterosaur we have already had wings and were capable fliers,” said Davide Foffa, a paleontologist at Virginia Tech, which makes it difficult to chart their aerial evolution (https://www.nytimes.com/2022/10/05/science/pterosaurs-reptiles-wings.html).\"\n",
        "\n",
        "punctuations = '!\"#$%&\\'()*+,-./:;<=>?@[\\\\]^_`{|}~'\n",
        "for punctuation in punctuations:\n",
        "    text = text.replace(punctuation, '')\n",
        "text_to_tokenise_no_punct = text.split()\n",
        "print(text_to_tokenise_no_punct)\n",
        "\n",
        "\n"
      ],
      "metadata": {
        "id": "cDUqoOlwMr1H",
        "outputId": "abd1d711-c2f5-4c17-a695-baa76c422323",
        "colab": {
          "base_uri": "https://localhost:8080/"
        }
      },
      "execution_count": 22,
      "outputs": [
        {
          "output_type": "stream",
          "name": "stdout",
          "text": [
            "['This', 'is', 'a', 'simple', 'sentence', 'but', 'the', 'next', 'one', 'isnt', 'Theres', 'more', 'to', 'tokenization', 'than', 'just', 'separating', 'on', 'spacesnever', 'forget', 'that']\n"
          ]
        }
      ]
    },
    {
      "cell_type": "markdown",
      "source": [
        "A.2) Now use two different methods for tokenization. Compare the results and discuss the differences. Explain them based on how each method works (see manual for methods)."
      ],
      "metadata": {
        "id": "VrCxqUBdMutq"
      }
    },
    {
      "cell_type": "code",
      "source": [
        "tokenised_ans = tokenize(text_to_tokenise)\n",
        "print(tokenised_ans)\n",
        "\n",
        "from nltk.tokenize import RegexpTokenizer\n",
        "\n",
        "\n",
        "\n",
        "tokenizer = RegexpTokenizer('\\w+')\n",
        "tokenized_text = tokenizer.tokenize(text_to_tokenise.lower())\n",
        "print(tokenized_text)\n"
      ],
      "metadata": {
        "id": "gB5oGUYNMyEc",
        "outputId": "7f95f554-4bf8-405d-e103-cfbf58f19011",
        "colab": {
          "base_uri": "https://localhost:8080/"
        }
      },
      "execution_count": 30,
      "outputs": [
        {
          "output_type": "stream",
          "name": "stdout",
          "text": [
            "['but', 'the', 'origins', 'of', 'these', 'reptiles', 'have', 'remained', 'murky', 'because', 'of', 'a', 'lack', 'of', 'fossils', 'from', 'the', 'earliest', 'fliers', '“the', 'oldest', 'pterosaur', 'we', 'have', 'already', 'had', 'wings', 'and', 'were', 'capable', 'fliers”', 'said', 'davide', 'foffa', 'a', 'paleontologist', 'at', 'virginia', 'tech', 'which', 'makes', 'it', 'difficult', 'to', 'chart', 'their', 'aerial', 'evolution', 'httpswwwnytimescom20221005sciencepterosaursreptileswingshtml']\n",
            "['but', 'the', 'origins', 'of', 'these', 'reptiles', 'have', 'remained', 'murky', 'because', 'of', 'a', 'lack', 'of', 'fossils', 'from', 'the', 'earliest', 'fliers', 'the', 'oldest', 'pterosaur', 'we', 'have', 'already', 'had', 'wings', 'and', 'were', 'capable', 'fliers', 'said', 'davide', 'foffa', 'a', 'paleontologist', 'at', 'virginia', 'tech', 'which', 'makes', 'it', 'difficult', 'to', 'chart', 'their', 'aerial', 'evolution', 'https', 'www', 'nytimes', 'com', '2022', '10', '05', 'science', 'pterosaurs', 'reptiles', 'wings', 'html']\n"
          ]
        }
      ]
    },
    {
      "cell_type": "markdown",
      "source": [
        "A.3) Compare the length of the paragraph from A.1) for diffeerent tokenization methods. Which method do you think is \"correct\"? How do you explain the differences?"
      ],
      "metadata": {
        "id": "K5fM1Dm0M11A"
      }
    },
    {
      "cell_type": "code",
      "source": [
        "#code & answer\n",
        "len(tokenized_text) - len(tokenised_ans)"
      ],
      "metadata": {
        "id": "XxtjojUOM6z4",
        "outputId": "17cfb015-15a6-4dab-f0b8-6e98aea79d62",
        "colab": {
          "base_uri": "https://localhost:8080/"
        }
      },
      "execution_count": 32,
      "outputs": [
        {
          "output_type": "execute_result",
          "data": {
            "text/plain": [
              "11"
            ]
          },
          "metadata": {},
          "execution_count": 32
        }
      ]
    },
    {
      "cell_type": "markdown",
      "source": [
        "A.4) Compare the ten most frequent words for the paragraph in A.1) per tokenization method (including your manual one)."
      ],
      "metadata": {
        "id": "4_WrYEPxM9c5"
      }
    },
    {
      "cell_type": "code",
      "source": [
        "#code & answer"
      ],
      "metadata": {
        "id": "52Myo_BqM_0z"
      },
      "execution_count": null,
      "outputs": []
    },
    {
      "cell_type": "markdown",
      "source": [
        "B.1) Next, you will analyse some Twitter data. Load the data as a df -> use the CTTW.csv from Team. It's a random sample of 10.000 tweets that mention \"China\" and \"tech\". Below are some of the imports that may come in handy but feel free to choose your own!"
      ],
      "metadata": {
        "id": "iOMykJ54NCNu"
      }
    },
    {
      "cell_type": "code",
      "source": [
        "#imports\n",
        "import pandas as pd\n",
        "import re\n",
        "import pandas as pd\n",
        "import matplotlib.pyplot as plt\n",
        "from datetime import datetime\n",
        "from collections import Counter, defaultdict\n",
        "from wordcloud import WordCloud\n",
        "from gensim import corpora, models\n",
        "import geopandas as gpd\n",
        "import nltk\n",
        "from nltk.corpus import stopwords\n",
        "import networkx as nx"
      ],
      "metadata": {
        "id": "6-_NiLy6NMZC"
      },
      "execution_count": 33,
      "outputs": []
    },
    {
      "cell_type": "code",
      "source": [
        "#code\n",
        "df = pd.read_excel(\"CTTW.xlsx\")"
      ],
      "metadata": {
        "id": "eJ_xE2UrNRse"
      },
      "execution_count": 45,
      "outputs": []
    },
    {
      "cell_type": "markdown",
      "source": [
        "B.2) Inspect the dataframe's first 20 rows and shape. It is always good to explore the data first by browsing through some of them."
      ],
      "metadata": {
        "id": "FZ_1RjzYNUMN"
      }
    },
    {
      "cell_type": "code",
      "source": [
        "#code\n",
        "df.head(20)\n",
        "#Unnamed:\n",
        "#\"author id\"\n",
        "#\"geo\"\n",
        "#id\n",
        "#users\n",
        "#in_reply_to\n",
        "#source"
      ],
      "metadata": {
        "id": "E5i0Qt_jNWHA",
        "outputId": "24128a19-ee1e-4518-d1a2-2f4a364192f8",
        "colab": {
          "base_uri": "https://localhost:8080/",
          "height": 1000
        }
      },
      "execution_count": 46,
      "outputs": [
        {
          "output_type": "execute_result",
          "data": {
            "text/plain": [
              "    Unnamed: 0            author id         username  \\\n",
              "0            0            395944523          arson03   \n",
              "1            1            351057439      mikethenerd   \n",
              "2            2            130473117    greenwillydot   \n",
              "3            3            430757506       GradyGroup   \n",
              "4            4             68717270       darcelchoy   \n",
              "5            5            211366198         ttscottw   \n",
              "6            6              2371631     ProLifePoint   \n",
              "7            7  1047341849529250048       davereaboi   \n",
              "8            8            256368478   newsfeeedflash   \n",
              "9            9            813064693  EnergiewendeGER   \n",
              "10          10           1890493075         USATODAY   \n",
              "11          11            344786265       jonfinelli   \n",
              "12          12             77599128         NZTEnews   \n",
              "13          13             14272734        oladapoak   \n",
              "14          14             17093031        duamansii   \n",
              "15          15           2923185736      ChrisDunnWX   \n",
              "16          16           1656768902           Nawras   \n",
              "17          17            110709129        Mick_Peel   \n",
              "18          18            395944523    robsonmanaged   \n",
              "19          19   818483840243133952  Ronny_Meichsner   \n",
              "\n",
              "                   created_at  geo                   id lang  like_count  \\\n",
              "0   2012-09-24 03:47:59+00:00  NaN   250079103636631008   en           0   \n",
              "1   2012-06-10 00:49:51+00:00  NaN   211621164303400000   en           0   \n",
              "2   2010-12-01 00:34:31+00:00  NaN     9767261288009720   en           0   \n",
              "3   2012-10-17 21:33:02+00:00  NaN   258682054873604000   en           0   \n",
              "4   2017-05-24 20:03:01+00:00  NaN   867471013340163968   en           1   \n",
              "5   2013-03-28 15:38:47+00:00  NaN   317299738250715008   en           0   \n",
              "6   2019-11-25 17:18:23+00:00  NaN  1199014480530870016   en           7   \n",
              "7   2021-08-27 19:33:50+00:00  NaN  1431339189631680000   en           0   \n",
              "8   2011-11-06 16:50:44+00:00  NaN   133224811798343008   en           0   \n",
              "9   2013-12-29 03:36:18+00:00  NaN   417136970544857024   en           0   \n",
              "10  2014-02-27 06:22:20+00:00  NaN   438922025814350976   en           0   \n",
              "11  2021-05-30 23:36:45+00:00  NaN  1399147802681380096   en           0   \n",
              "12  2013-11-25 16:58:13+00:00  NaN   405017591875256000   en           0   \n",
              "13  2016-12-29 05:14:56+00:00  NaN   814338893122256000   en           1   \n",
              "14  2021-04-25 08:32:33+00:00  NaN  1386236674988989952   en           0   \n",
              "15  2016-06-20 14:54:08+00:00  NaN   744906184931553024   en           0   \n",
              "16  2016-05-26 01:37:48+00:00  NaN   735646084802845952   en           0   \n",
              "17  2015-11-21 12:44:07+00:00  NaN   668047234353782016   en           0   \n",
              "18  2012-08-23 18:18:50+00:00  NaN   238701848536681984   en           0   \n",
              "19  2019-01-29 22:33:54+00:00  NaN  1090377524276850048   en           3   \n",
              "\n",
              "    quote_count  reply_count  retweet_count                  source  \\\n",
              "0             0            0              0  http://gadgetchinos.gq   \n",
              "1             0            0              0             twitterfeed   \n",
              "2             0            0              1      Twitter Web Client   \n",
              "3             0            0              0                 dlvr.it   \n",
              "4             0            0              0           Sprout Social   \n",
              "5             0            0              0       i-love-china-tech   \n",
              "6             0            0              2     Twitter for Android   \n",
              "7             0            0              0         Twitter Web App   \n",
              "8             0            0              0             twitterfeed   \n",
              "9             0            0              0                 dlvr.it   \n",
              "10            0            0              0             twitterfeed   \n",
              "11            0            0              1      Twitter for iPhone   \n",
              "12            0            0              1    Twitter for Websites   \n",
              "13            0            0              0                  Buffer   \n",
              "14            1            1              2     Twitter for Android   \n",
              "15            0            0              0                   IFTTT   \n",
              "16            0            0              0      Twitter Web Client   \n",
              "17            0            0              0                  Google   \n",
              "18            0            0              0  http://gadgetchinos.gq   \n",
              "19            0            0              1      Twitter for iPhone   \n",
              "\n",
              "                                                tweet   in_reply_to  \\\n",
              "0   Really ãƒ… nice!: UNI-T UT .\" LCD Digital Ther...           NaN   \n",
              "1   #tech China announces plans for major mission ...           NaN   \n",
              "2   RT @YS_KARASU: WikiLeaks: Great firewall of Ch...           NaN   \n",
              "3   Tech firm Huwei did not spy for China, White H...           NaN   \n",
              "4   Check it out: World's largest floating #solar ...           NaN   \n",
              "5   Rajoo X Wired Folding Headphones w/ Microphone...           NaN   \n",
              "6   [Every time another detail of China's high-tec...           NaN   \n",
              "7   China is doing what every country should have ...  1.047342e+18   \n",
              "8   Tech firms agree to stricter online regulation...           NaN   \n",
              "9    must-read tech stories in China this week htt...           NaN   \n",
              "10  Chinaâ€™s big tech moves onto banksâ€™ turf: Y...           NaN   \n",
              "11  RT @technology: Chinese investors are paying l...           NaN   \n",
              "12  Chinaâ€™s ZTE Entering Smartwatch Industry htt...           NaN   \n",
              "13  â–º Buy Now: https://t.co/hqHqhDT   #geek #gee...           NaN   \n",
              "14  Technology is Politics: chief of UK spying age...           NaN   \n",
              "15  Could you beat this badminton robot? https://t...           NaN   \n",
              "16  W Architectural LED Flood Lamps-architectural-...           NaN   \n",
              "17  China planning its own 'secure' smartphones ht...           NaN   \n",
              "18  Really ãƒ… nice!: PL USB to TTL rs Upgrade Boa...           NaN   \n",
              "19  Innovations in collaborations? Michael Mano @b...           NaN   \n",
              "\n",
              "                                                users  followers  tweet count  \\\n",
              "0   ['ChemarieMonica', 'Zite', 'designtaxi', 'WSJ'...       1060        17888   \n",
              "1   ['girlsintech_uk', 'freaklabs', 'TechLabsSA', ...        596         4041   \n",
              "2   ['TechCrunch', 'addthis', 'Techme101', 'Metalb...         18        13960   \n",
              "3   ['OffbeatChina', 'Tech_Eater', 'chaz1944', 'ed...       3173        18942   \n",
              "4   ['AP', 'mikel_maria', 'mikellomealy', 'calesto...       1998        52710   \n",
              "5   ['CNNMoney', 'CNNMoney', 'FortuneMagazine', 'C...         84       105122   \n",
              "6   ['SenSchumer', 'AP', 'HPC_Guru', 'AP', 'RealSa...        121         6620   \n",
              "7   ['AbhishBanerj', 'Alevskey', 'Techmeme', 'Winn...     168938       210136   \n",
              "8   ['topnepalnews', 'cnni', 'cnbcworld', 'andrewb...        697       129836   \n",
              "9   ['IsraelinChina', 'karmel80', 'karmel80', 'tec...      20789        31878   \n",
              "10  ['TheRichardLowe', 'TheRichardLowe', 'volkswag...    4701170       372964   \n",
              "11  ['StephenM', 'TheHinduScience', 'StephenM', 'I...        748        75626   \n",
              "12  ['Gizchina', 'Gizchina', '757LiveTech', 'Gizch...      18342        12801   \n",
              "13  ['Marcelloscherme', 'seyitaylor', 'Marcellosch...        119        15070   \n",
              "14  ['BetterknowYou', 'jawharsircar', 'jawharsirca...         53          176   \n",
              "15  ['Independent', 'Independent', 'Independent', ...       3280        14343   \n",
              "16  ['timesofindia', 'FabienAmoretti', 'china', 'S...        471         1276   \n",
              "17  ['WearThisTech', 'SCMP_News', 'SCMP_News', 'SC...       2738        81038   \n",
              "18  ['thenextweb', 'jonrussell', 'thenextweb', 'jo...      12906        54109   \n",
              "19  ['TheDailyShow', 'TheDailyShow', 'YouTube', 'T...       2646        84556   \n",
              "\n",
              "   country                                               tags  \n",
              "0    China                                                 []  \n",
              "1    China                                          ['#tech']  \n",
              "2    China                                                 []  \n",
              "3    China                                                 []  \n",
              "4    China                                         ['#solar']  \n",
              "5    China                                                 []  \n",
              "6    China                                                 []  \n",
              "7    China                                                 []  \n",
              "8    China                                                 []  \n",
              "9    China                                                 []  \n",
              "10   China                                                 []  \n",
              "11   China                                                 []  \n",
              "12   China  ['#mobile', '#China', '#smartwatch', '#tech', ...  \n",
              "13   China  ['#geek', '#geeky', '#cool', '#gadgets', '#gad...  \n",
              "14   China                                                 []  \n",
              "15   China                           ['#tech', '#technology']  \n",
              "16   China                                                 []  \n",
              "17   China                                                 []  \n",
              "18   China                                                 []  \n",
              "19   China                                                 []  "
            ],
            "text/html": [
              "\n",
              "  <div id=\"df-7aa2d41e-2b59-4c6c-85f7-dad81625640f\" class=\"colab-df-container\">\n",
              "    <div>\n",
              "<style scoped>\n",
              "    .dataframe tbody tr th:only-of-type {\n",
              "        vertical-align: middle;\n",
              "    }\n",
              "\n",
              "    .dataframe tbody tr th {\n",
              "        vertical-align: top;\n",
              "    }\n",
              "\n",
              "    .dataframe thead th {\n",
              "        text-align: right;\n",
              "    }\n",
              "</style>\n",
              "<table border=\"1\" class=\"dataframe\">\n",
              "  <thead>\n",
              "    <tr style=\"text-align: right;\">\n",
              "      <th></th>\n",
              "      <th>Unnamed: 0</th>\n",
              "      <th>author id</th>\n",
              "      <th>username</th>\n",
              "      <th>created_at</th>\n",
              "      <th>geo</th>\n",
              "      <th>id</th>\n",
              "      <th>lang</th>\n",
              "      <th>like_count</th>\n",
              "      <th>quote_count</th>\n",
              "      <th>reply_count</th>\n",
              "      <th>retweet_count</th>\n",
              "      <th>source</th>\n",
              "      <th>tweet</th>\n",
              "      <th>in_reply_to</th>\n",
              "      <th>users</th>\n",
              "      <th>followers</th>\n",
              "      <th>tweet count</th>\n",
              "      <th>country</th>\n",
              "      <th>tags</th>\n",
              "    </tr>\n",
              "  </thead>\n",
              "  <tbody>\n",
              "    <tr>\n",
              "      <th>0</th>\n",
              "      <td>0</td>\n",
              "      <td>395944523</td>\n",
              "      <td>arson03</td>\n",
              "      <td>2012-09-24 03:47:59+00:00</td>\n",
              "      <td>NaN</td>\n",
              "      <td>250079103636631008</td>\n",
              "      <td>en</td>\n",
              "      <td>0</td>\n",
              "      <td>0</td>\n",
              "      <td>0</td>\n",
              "      <td>0</td>\n",
              "      <td>http://gadgetchinos.gq</td>\n",
              "      <td>Really ãƒ… nice!: UNI-T UT .\" LCD Digital Ther...</td>\n",
              "      <td>NaN</td>\n",
              "      <td>['ChemarieMonica', 'Zite', 'designtaxi', 'WSJ'...</td>\n",
              "      <td>1060</td>\n",
              "      <td>17888</td>\n",
              "      <td>China</td>\n",
              "      <td>[]</td>\n",
              "    </tr>\n",
              "    <tr>\n",
              "      <th>1</th>\n",
              "      <td>1</td>\n",
              "      <td>351057439</td>\n",
              "      <td>mikethenerd</td>\n",
              "      <td>2012-06-10 00:49:51+00:00</td>\n",
              "      <td>NaN</td>\n",
              "      <td>211621164303400000</td>\n",
              "      <td>en</td>\n",
              "      <td>0</td>\n",
              "      <td>0</td>\n",
              "      <td>0</td>\n",
              "      <td>0</td>\n",
              "      <td>twitterfeed</td>\n",
              "      <td>#tech China announces plans for major mission ...</td>\n",
              "      <td>NaN</td>\n",
              "      <td>['girlsintech_uk', 'freaklabs', 'TechLabsSA', ...</td>\n",
              "      <td>596</td>\n",
              "      <td>4041</td>\n",
              "      <td>China</td>\n",
              "      <td>['#tech']</td>\n",
              "    </tr>\n",
              "    <tr>\n",
              "      <th>2</th>\n",
              "      <td>2</td>\n",
              "      <td>130473117</td>\n",
              "      <td>greenwillydot</td>\n",
              "      <td>2010-12-01 00:34:31+00:00</td>\n",
              "      <td>NaN</td>\n",
              "      <td>9767261288009720</td>\n",
              "      <td>en</td>\n",
              "      <td>0</td>\n",
              "      <td>0</td>\n",
              "      <td>0</td>\n",
              "      <td>1</td>\n",
              "      <td>Twitter Web Client</td>\n",
              "      <td>RT @YS_KARASU: WikiLeaks: Great firewall of Ch...</td>\n",
              "      <td>NaN</td>\n",
              "      <td>['TechCrunch', 'addthis', 'Techme101', 'Metalb...</td>\n",
              "      <td>18</td>\n",
              "      <td>13960</td>\n",
              "      <td>China</td>\n",
              "      <td>[]</td>\n",
              "    </tr>\n",
              "    <tr>\n",
              "      <th>3</th>\n",
              "      <td>3</td>\n",
              "      <td>430757506</td>\n",
              "      <td>GradyGroup</td>\n",
              "      <td>2012-10-17 21:33:02+00:00</td>\n",
              "      <td>NaN</td>\n",
              "      <td>258682054873604000</td>\n",
              "      <td>en</td>\n",
              "      <td>0</td>\n",
              "      <td>0</td>\n",
              "      <td>0</td>\n",
              "      <td>0</td>\n",
              "      <td>dlvr.it</td>\n",
              "      <td>Tech firm Huwei did not spy for China, White H...</td>\n",
              "      <td>NaN</td>\n",
              "      <td>['OffbeatChina', 'Tech_Eater', 'chaz1944', 'ed...</td>\n",
              "      <td>3173</td>\n",
              "      <td>18942</td>\n",
              "      <td>China</td>\n",
              "      <td>[]</td>\n",
              "    </tr>\n",
              "    <tr>\n",
              "      <th>4</th>\n",
              "      <td>4</td>\n",
              "      <td>68717270</td>\n",
              "      <td>darcelchoy</td>\n",
              "      <td>2017-05-24 20:03:01+00:00</td>\n",
              "      <td>NaN</td>\n",
              "      <td>867471013340163968</td>\n",
              "      <td>en</td>\n",
              "      <td>1</td>\n",
              "      <td>0</td>\n",
              "      <td>0</td>\n",
              "      <td>0</td>\n",
              "      <td>Sprout Social</td>\n",
              "      <td>Check it out: World's largest floating #solar ...</td>\n",
              "      <td>NaN</td>\n",
              "      <td>['AP', 'mikel_maria', 'mikellomealy', 'calesto...</td>\n",
              "      <td>1998</td>\n",
              "      <td>52710</td>\n",
              "      <td>China</td>\n",
              "      <td>['#solar']</td>\n",
              "    </tr>\n",
              "    <tr>\n",
              "      <th>5</th>\n",
              "      <td>5</td>\n",
              "      <td>211366198</td>\n",
              "      <td>ttscottw</td>\n",
              "      <td>2013-03-28 15:38:47+00:00</td>\n",
              "      <td>NaN</td>\n",
              "      <td>317299738250715008</td>\n",
              "      <td>en</td>\n",
              "      <td>0</td>\n",
              "      <td>0</td>\n",
              "      <td>0</td>\n",
              "      <td>0</td>\n",
              "      <td>i-love-china-tech</td>\n",
              "      <td>Rajoo X Wired Folding Headphones w/ Microphone...</td>\n",
              "      <td>NaN</td>\n",
              "      <td>['CNNMoney', 'CNNMoney', 'FortuneMagazine', 'C...</td>\n",
              "      <td>84</td>\n",
              "      <td>105122</td>\n",
              "      <td>China</td>\n",
              "      <td>[]</td>\n",
              "    </tr>\n",
              "    <tr>\n",
              "      <th>6</th>\n",
              "      <td>6</td>\n",
              "      <td>2371631</td>\n",
              "      <td>ProLifePoint</td>\n",
              "      <td>2019-11-25 17:18:23+00:00</td>\n",
              "      <td>NaN</td>\n",
              "      <td>1199014480530870016</td>\n",
              "      <td>en</td>\n",
              "      <td>7</td>\n",
              "      <td>0</td>\n",
              "      <td>0</td>\n",
              "      <td>2</td>\n",
              "      <td>Twitter for Android</td>\n",
              "      <td>[Every time another detail of China's high-tec...</td>\n",
              "      <td>NaN</td>\n",
              "      <td>['SenSchumer', 'AP', 'HPC_Guru', 'AP', 'RealSa...</td>\n",
              "      <td>121</td>\n",
              "      <td>6620</td>\n",
              "      <td>China</td>\n",
              "      <td>[]</td>\n",
              "    </tr>\n",
              "    <tr>\n",
              "      <th>7</th>\n",
              "      <td>7</td>\n",
              "      <td>1047341849529250048</td>\n",
              "      <td>davereaboi</td>\n",
              "      <td>2021-08-27 19:33:50+00:00</td>\n",
              "      <td>NaN</td>\n",
              "      <td>1431339189631680000</td>\n",
              "      <td>en</td>\n",
              "      <td>0</td>\n",
              "      <td>0</td>\n",
              "      <td>0</td>\n",
              "      <td>0</td>\n",
              "      <td>Twitter Web App</td>\n",
              "      <td>China is doing what every country should have ...</td>\n",
              "      <td>1.047342e+18</td>\n",
              "      <td>['AbhishBanerj', 'Alevskey', 'Techmeme', 'Winn...</td>\n",
              "      <td>168938</td>\n",
              "      <td>210136</td>\n",
              "      <td>China</td>\n",
              "      <td>[]</td>\n",
              "    </tr>\n",
              "    <tr>\n",
              "      <th>8</th>\n",
              "      <td>8</td>\n",
              "      <td>256368478</td>\n",
              "      <td>newsfeeedflash</td>\n",
              "      <td>2011-11-06 16:50:44+00:00</td>\n",
              "      <td>NaN</td>\n",
              "      <td>133224811798343008</td>\n",
              "      <td>en</td>\n",
              "      <td>0</td>\n",
              "      <td>0</td>\n",
              "      <td>0</td>\n",
              "      <td>0</td>\n",
              "      <td>twitterfeed</td>\n",
              "      <td>Tech firms agree to stricter online regulation...</td>\n",
              "      <td>NaN</td>\n",
              "      <td>['topnepalnews', 'cnni', 'cnbcworld', 'andrewb...</td>\n",
              "      <td>697</td>\n",
              "      <td>129836</td>\n",
              "      <td>China</td>\n",
              "      <td>[]</td>\n",
              "    </tr>\n",
              "    <tr>\n",
              "      <th>9</th>\n",
              "      <td>9</td>\n",
              "      <td>813064693</td>\n",
              "      <td>EnergiewendeGER</td>\n",
              "      <td>2013-12-29 03:36:18+00:00</td>\n",
              "      <td>NaN</td>\n",
              "      <td>417136970544857024</td>\n",
              "      <td>en</td>\n",
              "      <td>0</td>\n",
              "      <td>0</td>\n",
              "      <td>0</td>\n",
              "      <td>0</td>\n",
              "      <td>dlvr.it</td>\n",
              "      <td>must-read tech stories in China this week htt...</td>\n",
              "      <td>NaN</td>\n",
              "      <td>['IsraelinChina', 'karmel80', 'karmel80', 'tec...</td>\n",
              "      <td>20789</td>\n",
              "      <td>31878</td>\n",
              "      <td>China</td>\n",
              "      <td>[]</td>\n",
              "    </tr>\n",
              "    <tr>\n",
              "      <th>10</th>\n",
              "      <td>10</td>\n",
              "      <td>1890493075</td>\n",
              "      <td>USATODAY</td>\n",
              "      <td>2014-02-27 06:22:20+00:00</td>\n",
              "      <td>NaN</td>\n",
              "      <td>438922025814350976</td>\n",
              "      <td>en</td>\n",
              "      <td>0</td>\n",
              "      <td>0</td>\n",
              "      <td>0</td>\n",
              "      <td>0</td>\n",
              "      <td>twitterfeed</td>\n",
              "      <td>Chinaâ€™s big tech moves onto banksâ€™ turf: Y...</td>\n",
              "      <td>NaN</td>\n",
              "      <td>['TheRichardLowe', 'TheRichardLowe', 'volkswag...</td>\n",
              "      <td>4701170</td>\n",
              "      <td>372964</td>\n",
              "      <td>China</td>\n",
              "      <td>[]</td>\n",
              "    </tr>\n",
              "    <tr>\n",
              "      <th>11</th>\n",
              "      <td>11</td>\n",
              "      <td>344786265</td>\n",
              "      <td>jonfinelli</td>\n",
              "      <td>2021-05-30 23:36:45+00:00</td>\n",
              "      <td>NaN</td>\n",
              "      <td>1399147802681380096</td>\n",
              "      <td>en</td>\n",
              "      <td>0</td>\n",
              "      <td>0</td>\n",
              "      <td>0</td>\n",
              "      <td>1</td>\n",
              "      <td>Twitter for iPhone</td>\n",
              "      <td>RT @technology: Chinese investors are paying l...</td>\n",
              "      <td>NaN</td>\n",
              "      <td>['StephenM', 'TheHinduScience', 'StephenM', 'I...</td>\n",
              "      <td>748</td>\n",
              "      <td>75626</td>\n",
              "      <td>China</td>\n",
              "      <td>[]</td>\n",
              "    </tr>\n",
              "    <tr>\n",
              "      <th>12</th>\n",
              "      <td>12</td>\n",
              "      <td>77599128</td>\n",
              "      <td>NZTEnews</td>\n",
              "      <td>2013-11-25 16:58:13+00:00</td>\n",
              "      <td>NaN</td>\n",
              "      <td>405017591875256000</td>\n",
              "      <td>en</td>\n",
              "      <td>0</td>\n",
              "      <td>0</td>\n",
              "      <td>0</td>\n",
              "      <td>1</td>\n",
              "      <td>Twitter for Websites</td>\n",
              "      <td>Chinaâ€™s ZTE Entering Smartwatch Industry htt...</td>\n",
              "      <td>NaN</td>\n",
              "      <td>['Gizchina', 'Gizchina', '757LiveTech', 'Gizch...</td>\n",
              "      <td>18342</td>\n",
              "      <td>12801</td>\n",
              "      <td>China</td>\n",
              "      <td>['#mobile', '#China', '#smartwatch', '#tech', ...</td>\n",
              "    </tr>\n",
              "    <tr>\n",
              "      <th>13</th>\n",
              "      <td>13</td>\n",
              "      <td>14272734</td>\n",
              "      <td>oladapoak</td>\n",
              "      <td>2016-12-29 05:14:56+00:00</td>\n",
              "      <td>NaN</td>\n",
              "      <td>814338893122256000</td>\n",
              "      <td>en</td>\n",
              "      <td>1</td>\n",
              "      <td>0</td>\n",
              "      <td>0</td>\n",
              "      <td>0</td>\n",
              "      <td>Buffer</td>\n",
              "      <td>â–º Buy Now: https://t.co/hqHqhDT   #geek #gee...</td>\n",
              "      <td>NaN</td>\n",
              "      <td>['Marcelloscherme', 'seyitaylor', 'Marcellosch...</td>\n",
              "      <td>119</td>\n",
              "      <td>15070</td>\n",
              "      <td>China</td>\n",
              "      <td>['#geek', '#geeky', '#cool', '#gadgets', '#gad...</td>\n",
              "    </tr>\n",
              "    <tr>\n",
              "      <th>14</th>\n",
              "      <td>14</td>\n",
              "      <td>17093031</td>\n",
              "      <td>duamansii</td>\n",
              "      <td>2021-04-25 08:32:33+00:00</td>\n",
              "      <td>NaN</td>\n",
              "      <td>1386236674988989952</td>\n",
              "      <td>en</td>\n",
              "      <td>0</td>\n",
              "      <td>1</td>\n",
              "      <td>1</td>\n",
              "      <td>2</td>\n",
              "      <td>Twitter for Android</td>\n",
              "      <td>Technology is Politics: chief of UK spying age...</td>\n",
              "      <td>NaN</td>\n",
              "      <td>['BetterknowYou', 'jawharsircar', 'jawharsirca...</td>\n",
              "      <td>53</td>\n",
              "      <td>176</td>\n",
              "      <td>China</td>\n",
              "      <td>[]</td>\n",
              "    </tr>\n",
              "    <tr>\n",
              "      <th>15</th>\n",
              "      <td>15</td>\n",
              "      <td>2923185736</td>\n",
              "      <td>ChrisDunnWX</td>\n",
              "      <td>2016-06-20 14:54:08+00:00</td>\n",
              "      <td>NaN</td>\n",
              "      <td>744906184931553024</td>\n",
              "      <td>en</td>\n",
              "      <td>0</td>\n",
              "      <td>0</td>\n",
              "      <td>0</td>\n",
              "      <td>0</td>\n",
              "      <td>IFTTT</td>\n",
              "      <td>Could you beat this badminton robot? https://t...</td>\n",
              "      <td>NaN</td>\n",
              "      <td>['Independent', 'Independent', 'Independent', ...</td>\n",
              "      <td>3280</td>\n",
              "      <td>14343</td>\n",
              "      <td>China</td>\n",
              "      <td>['#tech', '#technology']</td>\n",
              "    </tr>\n",
              "    <tr>\n",
              "      <th>16</th>\n",
              "      <td>16</td>\n",
              "      <td>1656768902</td>\n",
              "      <td>Nawras</td>\n",
              "      <td>2016-05-26 01:37:48+00:00</td>\n",
              "      <td>NaN</td>\n",
              "      <td>735646084802845952</td>\n",
              "      <td>en</td>\n",
              "      <td>0</td>\n",
              "      <td>0</td>\n",
              "      <td>0</td>\n",
              "      <td>0</td>\n",
              "      <td>Twitter Web Client</td>\n",
              "      <td>W Architectural LED Flood Lamps-architectural-...</td>\n",
              "      <td>NaN</td>\n",
              "      <td>['timesofindia', 'FabienAmoretti', 'china', 'S...</td>\n",
              "      <td>471</td>\n",
              "      <td>1276</td>\n",
              "      <td>China</td>\n",
              "      <td>[]</td>\n",
              "    </tr>\n",
              "    <tr>\n",
              "      <th>17</th>\n",
              "      <td>17</td>\n",
              "      <td>110709129</td>\n",
              "      <td>Mick_Peel</td>\n",
              "      <td>2015-11-21 12:44:07+00:00</td>\n",
              "      <td>NaN</td>\n",
              "      <td>668047234353782016</td>\n",
              "      <td>en</td>\n",
              "      <td>0</td>\n",
              "      <td>0</td>\n",
              "      <td>0</td>\n",
              "      <td>0</td>\n",
              "      <td>Google</td>\n",
              "      <td>China planning its own 'secure' smartphones ht...</td>\n",
              "      <td>NaN</td>\n",
              "      <td>['WearThisTech', 'SCMP_News', 'SCMP_News', 'SC...</td>\n",
              "      <td>2738</td>\n",
              "      <td>81038</td>\n",
              "      <td>China</td>\n",
              "      <td>[]</td>\n",
              "    </tr>\n",
              "    <tr>\n",
              "      <th>18</th>\n",
              "      <td>18</td>\n",
              "      <td>395944523</td>\n",
              "      <td>robsonmanaged</td>\n",
              "      <td>2012-08-23 18:18:50+00:00</td>\n",
              "      <td>NaN</td>\n",
              "      <td>238701848536681984</td>\n",
              "      <td>en</td>\n",
              "      <td>0</td>\n",
              "      <td>0</td>\n",
              "      <td>0</td>\n",
              "      <td>0</td>\n",
              "      <td>http://gadgetchinos.gq</td>\n",
              "      <td>Really ãƒ… nice!: PL USB to TTL rs Upgrade Boa...</td>\n",
              "      <td>NaN</td>\n",
              "      <td>['thenextweb', 'jonrussell', 'thenextweb', 'jo...</td>\n",
              "      <td>12906</td>\n",
              "      <td>54109</td>\n",
              "      <td>China</td>\n",
              "      <td>[]</td>\n",
              "    </tr>\n",
              "    <tr>\n",
              "      <th>19</th>\n",
              "      <td>19</td>\n",
              "      <td>818483840243133952</td>\n",
              "      <td>Ronny_Meichsner</td>\n",
              "      <td>2019-01-29 22:33:54+00:00</td>\n",
              "      <td>NaN</td>\n",
              "      <td>1090377524276850048</td>\n",
              "      <td>en</td>\n",
              "      <td>3</td>\n",
              "      <td>0</td>\n",
              "      <td>0</td>\n",
              "      <td>1</td>\n",
              "      <td>Twitter for iPhone</td>\n",
              "      <td>Innovations in collaborations? Michael Mano @b...</td>\n",
              "      <td>NaN</td>\n",
              "      <td>['TheDailyShow', 'TheDailyShow', 'YouTube', 'T...</td>\n",
              "      <td>2646</td>\n",
              "      <td>84556</td>\n",
              "      <td>China</td>\n",
              "      <td>[]</td>\n",
              "    </tr>\n",
              "  </tbody>\n",
              "</table>\n",
              "</div>\n",
              "    <div class=\"colab-df-buttons\">\n",
              "\n",
              "  <div class=\"colab-df-container\">\n",
              "    <button class=\"colab-df-convert\" onclick=\"convertToInteractive('df-7aa2d41e-2b59-4c6c-85f7-dad81625640f')\"\n",
              "            title=\"Convert this dataframe to an interactive table.\"\n",
              "            style=\"display:none;\">\n",
              "\n",
              "  <svg xmlns=\"http://www.w3.org/2000/svg\" height=\"24px\" viewBox=\"0 -960 960 960\">\n",
              "    <path d=\"M120-120v-720h720v720H120Zm60-500h600v-160H180v160Zm220 220h160v-160H400v160Zm0 220h160v-160H400v160ZM180-400h160v-160H180v160Zm440 0h160v-160H620v160ZM180-180h160v-160H180v160Zm440 0h160v-160H620v160Z\"/>\n",
              "  </svg>\n",
              "    </button>\n",
              "\n",
              "  <style>\n",
              "    .colab-df-container {\n",
              "      display:flex;\n",
              "      gap: 12px;\n",
              "    }\n",
              "\n",
              "    .colab-df-convert {\n",
              "      background-color: #E8F0FE;\n",
              "      border: none;\n",
              "      border-radius: 50%;\n",
              "      cursor: pointer;\n",
              "      display: none;\n",
              "      fill: #1967D2;\n",
              "      height: 32px;\n",
              "      padding: 0 0 0 0;\n",
              "      width: 32px;\n",
              "    }\n",
              "\n",
              "    .colab-df-convert:hover {\n",
              "      background-color: #E2EBFA;\n",
              "      box-shadow: 0px 1px 2px rgba(60, 64, 67, 0.3), 0px 1px 3px 1px rgba(60, 64, 67, 0.15);\n",
              "      fill: #174EA6;\n",
              "    }\n",
              "\n",
              "    .colab-df-buttons div {\n",
              "      margin-bottom: 4px;\n",
              "    }\n",
              "\n",
              "    [theme=dark] .colab-df-convert {\n",
              "      background-color: #3B4455;\n",
              "      fill: #D2E3FC;\n",
              "    }\n",
              "\n",
              "    [theme=dark] .colab-df-convert:hover {\n",
              "      background-color: #434B5C;\n",
              "      box-shadow: 0px 1px 3px 1px rgba(0, 0, 0, 0.15);\n",
              "      filter: drop-shadow(0px 1px 2px rgba(0, 0, 0, 0.3));\n",
              "      fill: #FFFFFF;\n",
              "    }\n",
              "  </style>\n",
              "\n",
              "    <script>\n",
              "      const buttonEl =\n",
              "        document.querySelector('#df-7aa2d41e-2b59-4c6c-85f7-dad81625640f button.colab-df-convert');\n",
              "      buttonEl.style.display =\n",
              "        google.colab.kernel.accessAllowed ? 'block' : 'none';\n",
              "\n",
              "      async function convertToInteractive(key) {\n",
              "        const element = document.querySelector('#df-7aa2d41e-2b59-4c6c-85f7-dad81625640f');\n",
              "        const dataTable =\n",
              "          await google.colab.kernel.invokeFunction('convertToInteractive',\n",
              "                                                    [key], {});\n",
              "        if (!dataTable) return;\n",
              "\n",
              "        const docLinkHtml = 'Like what you see? Visit the ' +\n",
              "          '<a target=\"_blank\" href=https://colab.research.google.com/notebooks/data_table.ipynb>data table notebook</a>'\n",
              "          + ' to learn more about interactive tables.';\n",
              "        element.innerHTML = '';\n",
              "        dataTable['output_type'] = 'display_data';\n",
              "        await google.colab.output.renderOutput(dataTable, element);\n",
              "        const docLink = document.createElement('div');\n",
              "        docLink.innerHTML = docLinkHtml;\n",
              "        element.appendChild(docLink);\n",
              "      }\n",
              "    </script>\n",
              "  </div>\n",
              "\n",
              "\n",
              "<div id=\"df-a7076c54-72f7-4de0-823c-e012e4c0706e\">\n",
              "  <button class=\"colab-df-quickchart\" onclick=\"quickchart('df-a7076c54-72f7-4de0-823c-e012e4c0706e')\"\n",
              "            title=\"Suggest charts\"\n",
              "            style=\"display:none;\">\n",
              "\n",
              "<svg xmlns=\"http://www.w3.org/2000/svg\" height=\"24px\"viewBox=\"0 0 24 24\"\n",
              "     width=\"24px\">\n",
              "    <g>\n",
              "        <path d=\"M19 3H5c-1.1 0-2 .9-2 2v14c0 1.1.9 2 2 2h14c1.1 0 2-.9 2-2V5c0-1.1-.9-2-2-2zM9 17H7v-7h2v7zm4 0h-2V7h2v10zm4 0h-2v-4h2v4z\"/>\n",
              "    </g>\n",
              "</svg>\n",
              "  </button>\n",
              "\n",
              "<style>\n",
              "  .colab-df-quickchart {\n",
              "      --bg-color: #E8F0FE;\n",
              "      --fill-color: #1967D2;\n",
              "      --hover-bg-color: #E2EBFA;\n",
              "      --hover-fill-color: #174EA6;\n",
              "      --disabled-fill-color: #AAA;\n",
              "      --disabled-bg-color: #DDD;\n",
              "  }\n",
              "\n",
              "  [theme=dark] .colab-df-quickchart {\n",
              "      --bg-color: #3B4455;\n",
              "      --fill-color: #D2E3FC;\n",
              "      --hover-bg-color: #434B5C;\n",
              "      --hover-fill-color: #FFFFFF;\n",
              "      --disabled-bg-color: #3B4455;\n",
              "      --disabled-fill-color: #666;\n",
              "  }\n",
              "\n",
              "  .colab-df-quickchart {\n",
              "    background-color: var(--bg-color);\n",
              "    border: none;\n",
              "    border-radius: 50%;\n",
              "    cursor: pointer;\n",
              "    display: none;\n",
              "    fill: var(--fill-color);\n",
              "    height: 32px;\n",
              "    padding: 0;\n",
              "    width: 32px;\n",
              "  }\n",
              "\n",
              "  .colab-df-quickchart:hover {\n",
              "    background-color: var(--hover-bg-color);\n",
              "    box-shadow: 0 1px 2px rgba(60, 64, 67, 0.3), 0 1px 3px 1px rgba(60, 64, 67, 0.15);\n",
              "    fill: var(--button-hover-fill-color);\n",
              "  }\n",
              "\n",
              "  .colab-df-quickchart-complete:disabled,\n",
              "  .colab-df-quickchart-complete:disabled:hover {\n",
              "    background-color: var(--disabled-bg-color);\n",
              "    fill: var(--disabled-fill-color);\n",
              "    box-shadow: none;\n",
              "  }\n",
              "\n",
              "  .colab-df-spinner {\n",
              "    border: 2px solid var(--fill-color);\n",
              "    border-color: transparent;\n",
              "    border-bottom-color: var(--fill-color);\n",
              "    animation:\n",
              "      spin 1s steps(1) infinite;\n",
              "  }\n",
              "\n",
              "  @keyframes spin {\n",
              "    0% {\n",
              "      border-color: transparent;\n",
              "      border-bottom-color: var(--fill-color);\n",
              "      border-left-color: var(--fill-color);\n",
              "    }\n",
              "    20% {\n",
              "      border-color: transparent;\n",
              "      border-left-color: var(--fill-color);\n",
              "      border-top-color: var(--fill-color);\n",
              "    }\n",
              "    30% {\n",
              "      border-color: transparent;\n",
              "      border-left-color: var(--fill-color);\n",
              "      border-top-color: var(--fill-color);\n",
              "      border-right-color: var(--fill-color);\n",
              "    }\n",
              "    40% {\n",
              "      border-color: transparent;\n",
              "      border-right-color: var(--fill-color);\n",
              "      border-top-color: var(--fill-color);\n",
              "    }\n",
              "    60% {\n",
              "      border-color: transparent;\n",
              "      border-right-color: var(--fill-color);\n",
              "    }\n",
              "    80% {\n",
              "      border-color: transparent;\n",
              "      border-right-color: var(--fill-color);\n",
              "      border-bottom-color: var(--fill-color);\n",
              "    }\n",
              "    90% {\n",
              "      border-color: transparent;\n",
              "      border-bottom-color: var(--fill-color);\n",
              "    }\n",
              "  }\n",
              "</style>\n",
              "\n",
              "  <script>\n",
              "    async function quickchart(key) {\n",
              "      const quickchartButtonEl =\n",
              "        document.querySelector('#' + key + ' button');\n",
              "      quickchartButtonEl.disabled = true;  // To prevent multiple clicks.\n",
              "      quickchartButtonEl.classList.add('colab-df-spinner');\n",
              "      try {\n",
              "        const charts = await google.colab.kernel.invokeFunction(\n",
              "            'suggestCharts', [key], {});\n",
              "      } catch (error) {\n",
              "        console.error('Error during call to suggestCharts:', error);\n",
              "      }\n",
              "      quickchartButtonEl.classList.remove('colab-df-spinner');\n",
              "      quickchartButtonEl.classList.add('colab-df-quickchart-complete');\n",
              "    }\n",
              "    (() => {\n",
              "      let quickchartButtonEl =\n",
              "        document.querySelector('#df-a7076c54-72f7-4de0-823c-e012e4c0706e button');\n",
              "      quickchartButtonEl.style.display =\n",
              "        google.colab.kernel.accessAllowed ? 'block' : 'none';\n",
              "    })();\n",
              "  </script>\n",
              "</div>\n",
              "    </div>\n",
              "  </div>\n"
            ]
          },
          "metadata": {},
          "execution_count": 46
        }
      ]
    },
    {
      "cell_type": "markdown",
      "source": [
        "B.3) There might be a column that is not very useful. Remove it from the dataframe."
      ],
      "metadata": {
        "id": "p8K3rTTLNYON"
      }
    },
    {
      "cell_type": "code",
      "source": [
        "#code\n",
        "df.drop(columns=[\"geo\", \"source\", \"author id\", \"id\", \"users\", \"in_reply_to\"], axis = 1)"
      ],
      "metadata": {
        "id": "AFG1ALmrNcgF",
        "outputId": "b1aa1189-d256-440b-fde5-b9f448159436",
        "colab": {
          "base_uri": "https://localhost:8080/",
          "height": 895
        }
      },
      "execution_count": 60,
      "outputs": [
        {
          "output_type": "execute_result",
          "data": {
            "text/plain": [
              "      Unnamed: 0         username                 created_at lang  like_count  \\\n",
              "0              0          arson03  2012-09-24 03:47:59+00:00   en           0   \n",
              "1              1      mikethenerd  2012-06-10 00:49:51+00:00   en           0   \n",
              "2              2    greenwillydot  2010-12-01 00:34:31+00:00   en           0   \n",
              "3              3       GradyGroup  2012-10-17 21:33:02+00:00   en           0   \n",
              "4              4       darcelchoy  2017-05-24 20:03:01+00:00   en           1   \n",
              "...          ...              ...                        ...  ...         ...   \n",
              "9995        9995     masterstuff2  2018-01-27 06:01:43+00:00   en           0   \n",
              "9996        9996  AppleInvestNews  2020-02-28 12:23:21+00:00   en           0   \n",
              "9997        9997      ensredshirt  2013-11-09 18:02:44+00:00   en           0   \n",
              "9998        9998      ElisafromCA  2017-02-26 05:50:03+00:00   en           7   \n",
              "9999        9999         AMagleby  2021-04-29 03:10:46+00:00   en           0   \n",
              "\n",
              "      quote_count  reply_count  retweet_count  \\\n",
              "0               0            0              0   \n",
              "1               0            0              0   \n",
              "2               0            0              1   \n",
              "3               0            0              0   \n",
              "4               0            0              0   \n",
              "...           ...          ...            ...   \n",
              "9995            0            0              0   \n",
              "9996            0            0              0   \n",
              "9997            0            0              0   \n",
              "9998            0            0              1   \n",
              "9999            0            0             12   \n",
              "\n",
              "                                                  tweet  followers  \\\n",
              "0     Really ãƒ… nice!: UNI-T UT .\" LCD Digital Ther...       1060   \n",
              "1     #tech China announces plans for major mission ...        596   \n",
              "2     RT @YS_KARASU: WikiLeaks: Great firewall of Ch...         18   \n",
              "3     Tech firm Huwei did not spy for China, White H...       3173   \n",
              "4     Check it out: World's largest floating #solar ...       1998   \n",
              "...                                                 ...        ...   \n",
              "9995  China's police state  \"shames jay walkers\" usi...        849   \n",
              "9996  #VivoZ #G announced in China .\" FHD+ LCD SD G ...        411   \n",
              "9997  Retro Skull Pattern Long-Sleeve Women's Sweate...        688   \n",
              "9998  #technology &amp; #digital #entrepreneurship: ...       1202   \n",
              "9999  RT @CNBC: First  days: Biden keeps Trump-era s...       1607   \n",
              "\n",
              "      tweet count country                                               tags  \n",
              "0           17888   China                                                 []  \n",
              "1            4041   China                                          ['#tech']  \n",
              "2           13960   China                                                 []  \n",
              "3           18942   China                                                 []  \n",
              "4           52710   China                                         ['#solar']  \n",
              "...           ...     ...                                                ...  \n",
              "9995        89515   China  ['#DAVOS', '#China', '#Globalists', '#Globalis...  \n",
              "9996        84861   China  ['#VivoZ6', '#5G', '#Vivo', '#Tech', '#TechNew...  \n",
              "9997        39211   China                                                 []  \n",
              "9998        59721   China  ['#technology', '#digital', '#entrepreneurship...  \n",
              "9999       283629   China                                                 []  \n",
              "\n",
              "[10000 rows x 13 columns]"
            ],
            "text/html": [
              "\n",
              "  <div id=\"df-7b75c0bb-cb1e-4d33-8910-3d9a69095243\" class=\"colab-df-container\">\n",
              "    <div>\n",
              "<style scoped>\n",
              "    .dataframe tbody tr th:only-of-type {\n",
              "        vertical-align: middle;\n",
              "    }\n",
              "\n",
              "    .dataframe tbody tr th {\n",
              "        vertical-align: top;\n",
              "    }\n",
              "\n",
              "    .dataframe thead th {\n",
              "        text-align: right;\n",
              "    }\n",
              "</style>\n",
              "<table border=\"1\" class=\"dataframe\">\n",
              "  <thead>\n",
              "    <tr style=\"text-align: right;\">\n",
              "      <th></th>\n",
              "      <th>Unnamed: 0</th>\n",
              "      <th>username</th>\n",
              "      <th>created_at</th>\n",
              "      <th>lang</th>\n",
              "      <th>like_count</th>\n",
              "      <th>quote_count</th>\n",
              "      <th>reply_count</th>\n",
              "      <th>retweet_count</th>\n",
              "      <th>tweet</th>\n",
              "      <th>followers</th>\n",
              "      <th>tweet count</th>\n",
              "      <th>country</th>\n",
              "      <th>tags</th>\n",
              "    </tr>\n",
              "  </thead>\n",
              "  <tbody>\n",
              "    <tr>\n",
              "      <th>0</th>\n",
              "      <td>0</td>\n",
              "      <td>arson03</td>\n",
              "      <td>2012-09-24 03:47:59+00:00</td>\n",
              "      <td>en</td>\n",
              "      <td>0</td>\n",
              "      <td>0</td>\n",
              "      <td>0</td>\n",
              "      <td>0</td>\n",
              "      <td>Really ãƒ… nice!: UNI-T UT .\" LCD Digital Ther...</td>\n",
              "      <td>1060</td>\n",
              "      <td>17888</td>\n",
              "      <td>China</td>\n",
              "      <td>[]</td>\n",
              "    </tr>\n",
              "    <tr>\n",
              "      <th>1</th>\n",
              "      <td>1</td>\n",
              "      <td>mikethenerd</td>\n",
              "      <td>2012-06-10 00:49:51+00:00</td>\n",
              "      <td>en</td>\n",
              "      <td>0</td>\n",
              "      <td>0</td>\n",
              "      <td>0</td>\n",
              "      <td>0</td>\n",
              "      <td>#tech China announces plans for major mission ...</td>\n",
              "      <td>596</td>\n",
              "      <td>4041</td>\n",
              "      <td>China</td>\n",
              "      <td>['#tech']</td>\n",
              "    </tr>\n",
              "    <tr>\n",
              "      <th>2</th>\n",
              "      <td>2</td>\n",
              "      <td>greenwillydot</td>\n",
              "      <td>2010-12-01 00:34:31+00:00</td>\n",
              "      <td>en</td>\n",
              "      <td>0</td>\n",
              "      <td>0</td>\n",
              "      <td>0</td>\n",
              "      <td>1</td>\n",
              "      <td>RT @YS_KARASU: WikiLeaks: Great firewall of Ch...</td>\n",
              "      <td>18</td>\n",
              "      <td>13960</td>\n",
              "      <td>China</td>\n",
              "      <td>[]</td>\n",
              "    </tr>\n",
              "    <tr>\n",
              "      <th>3</th>\n",
              "      <td>3</td>\n",
              "      <td>GradyGroup</td>\n",
              "      <td>2012-10-17 21:33:02+00:00</td>\n",
              "      <td>en</td>\n",
              "      <td>0</td>\n",
              "      <td>0</td>\n",
              "      <td>0</td>\n",
              "      <td>0</td>\n",
              "      <td>Tech firm Huwei did not spy for China, White H...</td>\n",
              "      <td>3173</td>\n",
              "      <td>18942</td>\n",
              "      <td>China</td>\n",
              "      <td>[]</td>\n",
              "    </tr>\n",
              "    <tr>\n",
              "      <th>4</th>\n",
              "      <td>4</td>\n",
              "      <td>darcelchoy</td>\n",
              "      <td>2017-05-24 20:03:01+00:00</td>\n",
              "      <td>en</td>\n",
              "      <td>1</td>\n",
              "      <td>0</td>\n",
              "      <td>0</td>\n",
              "      <td>0</td>\n",
              "      <td>Check it out: World's largest floating #solar ...</td>\n",
              "      <td>1998</td>\n",
              "      <td>52710</td>\n",
              "      <td>China</td>\n",
              "      <td>['#solar']</td>\n",
              "    </tr>\n",
              "    <tr>\n",
              "      <th>...</th>\n",
              "      <td>...</td>\n",
              "      <td>...</td>\n",
              "      <td>...</td>\n",
              "      <td>...</td>\n",
              "      <td>...</td>\n",
              "      <td>...</td>\n",
              "      <td>...</td>\n",
              "      <td>...</td>\n",
              "      <td>...</td>\n",
              "      <td>...</td>\n",
              "      <td>...</td>\n",
              "      <td>...</td>\n",
              "      <td>...</td>\n",
              "    </tr>\n",
              "    <tr>\n",
              "      <th>9995</th>\n",
              "      <td>9995</td>\n",
              "      <td>masterstuff2</td>\n",
              "      <td>2018-01-27 06:01:43+00:00</td>\n",
              "      <td>en</td>\n",
              "      <td>0</td>\n",
              "      <td>0</td>\n",
              "      <td>0</td>\n",
              "      <td>0</td>\n",
              "      <td>China's police state  \"shames jay walkers\" usi...</td>\n",
              "      <td>849</td>\n",
              "      <td>89515</td>\n",
              "      <td>China</td>\n",
              "      <td>['#DAVOS', '#China', '#Globalists', '#Globalis...</td>\n",
              "    </tr>\n",
              "    <tr>\n",
              "      <th>9996</th>\n",
              "      <td>9996</td>\n",
              "      <td>AppleInvestNews</td>\n",
              "      <td>2020-02-28 12:23:21+00:00</td>\n",
              "      <td>en</td>\n",
              "      <td>0</td>\n",
              "      <td>0</td>\n",
              "      <td>0</td>\n",
              "      <td>0</td>\n",
              "      <td>#VivoZ #G announced in China .\" FHD+ LCD SD G ...</td>\n",
              "      <td>411</td>\n",
              "      <td>84861</td>\n",
              "      <td>China</td>\n",
              "      <td>['#VivoZ6', '#5G', '#Vivo', '#Tech', '#TechNew...</td>\n",
              "    </tr>\n",
              "    <tr>\n",
              "      <th>9997</th>\n",
              "      <td>9997</td>\n",
              "      <td>ensredshirt</td>\n",
              "      <td>2013-11-09 18:02:44+00:00</td>\n",
              "      <td>en</td>\n",
              "      <td>0</td>\n",
              "      <td>0</td>\n",
              "      <td>0</td>\n",
              "      <td>0</td>\n",
              "      <td>Retro Skull Pattern Long-Sleeve Women's Sweate...</td>\n",
              "      <td>688</td>\n",
              "      <td>39211</td>\n",
              "      <td>China</td>\n",
              "      <td>[]</td>\n",
              "    </tr>\n",
              "    <tr>\n",
              "      <th>9998</th>\n",
              "      <td>9998</td>\n",
              "      <td>ElisafromCA</td>\n",
              "      <td>2017-02-26 05:50:03+00:00</td>\n",
              "      <td>en</td>\n",
              "      <td>7</td>\n",
              "      <td>0</td>\n",
              "      <td>0</td>\n",
              "      <td>1</td>\n",
              "      <td>#technology &amp;amp; #digital #entrepreneurship: ...</td>\n",
              "      <td>1202</td>\n",
              "      <td>59721</td>\n",
              "      <td>China</td>\n",
              "      <td>['#technology', '#digital', '#entrepreneurship...</td>\n",
              "    </tr>\n",
              "    <tr>\n",
              "      <th>9999</th>\n",
              "      <td>9999</td>\n",
              "      <td>AMagleby</td>\n",
              "      <td>2021-04-29 03:10:46+00:00</td>\n",
              "      <td>en</td>\n",
              "      <td>0</td>\n",
              "      <td>0</td>\n",
              "      <td>0</td>\n",
              "      <td>12</td>\n",
              "      <td>RT @CNBC: First  days: Biden keeps Trump-era s...</td>\n",
              "      <td>1607</td>\n",
              "      <td>283629</td>\n",
              "      <td>China</td>\n",
              "      <td>[]</td>\n",
              "    </tr>\n",
              "  </tbody>\n",
              "</table>\n",
              "<p>10000 rows × 13 columns</p>\n",
              "</div>\n",
              "    <div class=\"colab-df-buttons\">\n",
              "\n",
              "  <div class=\"colab-df-container\">\n",
              "    <button class=\"colab-df-convert\" onclick=\"convertToInteractive('df-7b75c0bb-cb1e-4d33-8910-3d9a69095243')\"\n",
              "            title=\"Convert this dataframe to an interactive table.\"\n",
              "            style=\"display:none;\">\n",
              "\n",
              "  <svg xmlns=\"http://www.w3.org/2000/svg\" height=\"24px\" viewBox=\"0 -960 960 960\">\n",
              "    <path d=\"M120-120v-720h720v720H120Zm60-500h600v-160H180v160Zm220 220h160v-160H400v160Zm0 220h160v-160H400v160ZM180-400h160v-160H180v160Zm440 0h160v-160H620v160ZM180-180h160v-160H180v160Zm440 0h160v-160H620v160Z\"/>\n",
              "  </svg>\n",
              "    </button>\n",
              "\n",
              "  <style>\n",
              "    .colab-df-container {\n",
              "      display:flex;\n",
              "      gap: 12px;\n",
              "    }\n",
              "\n",
              "    .colab-df-convert {\n",
              "      background-color: #E8F0FE;\n",
              "      border: none;\n",
              "      border-radius: 50%;\n",
              "      cursor: pointer;\n",
              "      display: none;\n",
              "      fill: #1967D2;\n",
              "      height: 32px;\n",
              "      padding: 0 0 0 0;\n",
              "      width: 32px;\n",
              "    }\n",
              "\n",
              "    .colab-df-convert:hover {\n",
              "      background-color: #E2EBFA;\n",
              "      box-shadow: 0px 1px 2px rgba(60, 64, 67, 0.3), 0px 1px 3px 1px rgba(60, 64, 67, 0.15);\n",
              "      fill: #174EA6;\n",
              "    }\n",
              "\n",
              "    .colab-df-buttons div {\n",
              "      margin-bottom: 4px;\n",
              "    }\n",
              "\n",
              "    [theme=dark] .colab-df-convert {\n",
              "      background-color: #3B4455;\n",
              "      fill: #D2E3FC;\n",
              "    }\n",
              "\n",
              "    [theme=dark] .colab-df-convert:hover {\n",
              "      background-color: #434B5C;\n",
              "      box-shadow: 0px 1px 3px 1px rgba(0, 0, 0, 0.15);\n",
              "      filter: drop-shadow(0px 1px 2px rgba(0, 0, 0, 0.3));\n",
              "      fill: #FFFFFF;\n",
              "    }\n",
              "  </style>\n",
              "\n",
              "    <script>\n",
              "      const buttonEl =\n",
              "        document.querySelector('#df-7b75c0bb-cb1e-4d33-8910-3d9a69095243 button.colab-df-convert');\n",
              "      buttonEl.style.display =\n",
              "        google.colab.kernel.accessAllowed ? 'block' : 'none';\n",
              "\n",
              "      async function convertToInteractive(key) {\n",
              "        const element = document.querySelector('#df-7b75c0bb-cb1e-4d33-8910-3d9a69095243');\n",
              "        const dataTable =\n",
              "          await google.colab.kernel.invokeFunction('convertToInteractive',\n",
              "                                                    [key], {});\n",
              "        if (!dataTable) return;\n",
              "\n",
              "        const docLinkHtml = 'Like what you see? Visit the ' +\n",
              "          '<a target=\"_blank\" href=https://colab.research.google.com/notebooks/data_table.ipynb>data table notebook</a>'\n",
              "          + ' to learn more about interactive tables.';\n",
              "        element.innerHTML = '';\n",
              "        dataTable['output_type'] = 'display_data';\n",
              "        await google.colab.output.renderOutput(dataTable, element);\n",
              "        const docLink = document.createElement('div');\n",
              "        docLink.innerHTML = docLinkHtml;\n",
              "        element.appendChild(docLink);\n",
              "      }\n",
              "    </script>\n",
              "  </div>\n",
              "\n",
              "\n",
              "<div id=\"df-08f6970c-c854-4272-9e26-b38bea7f0cc7\">\n",
              "  <button class=\"colab-df-quickchart\" onclick=\"quickchart('df-08f6970c-c854-4272-9e26-b38bea7f0cc7')\"\n",
              "            title=\"Suggest charts\"\n",
              "            style=\"display:none;\">\n",
              "\n",
              "<svg xmlns=\"http://www.w3.org/2000/svg\" height=\"24px\"viewBox=\"0 0 24 24\"\n",
              "     width=\"24px\">\n",
              "    <g>\n",
              "        <path d=\"M19 3H5c-1.1 0-2 .9-2 2v14c0 1.1.9 2 2 2h14c1.1 0 2-.9 2-2V5c0-1.1-.9-2-2-2zM9 17H7v-7h2v7zm4 0h-2V7h2v10zm4 0h-2v-4h2v4z\"/>\n",
              "    </g>\n",
              "</svg>\n",
              "  </button>\n",
              "\n",
              "<style>\n",
              "  .colab-df-quickchart {\n",
              "      --bg-color: #E8F0FE;\n",
              "      --fill-color: #1967D2;\n",
              "      --hover-bg-color: #E2EBFA;\n",
              "      --hover-fill-color: #174EA6;\n",
              "      --disabled-fill-color: #AAA;\n",
              "      --disabled-bg-color: #DDD;\n",
              "  }\n",
              "\n",
              "  [theme=dark] .colab-df-quickchart {\n",
              "      --bg-color: #3B4455;\n",
              "      --fill-color: #D2E3FC;\n",
              "      --hover-bg-color: #434B5C;\n",
              "      --hover-fill-color: #FFFFFF;\n",
              "      --disabled-bg-color: #3B4455;\n",
              "      --disabled-fill-color: #666;\n",
              "  }\n",
              "\n",
              "  .colab-df-quickchart {\n",
              "    background-color: var(--bg-color);\n",
              "    border: none;\n",
              "    border-radius: 50%;\n",
              "    cursor: pointer;\n",
              "    display: none;\n",
              "    fill: var(--fill-color);\n",
              "    height: 32px;\n",
              "    padding: 0;\n",
              "    width: 32px;\n",
              "  }\n",
              "\n",
              "  .colab-df-quickchart:hover {\n",
              "    background-color: var(--hover-bg-color);\n",
              "    box-shadow: 0 1px 2px rgba(60, 64, 67, 0.3), 0 1px 3px 1px rgba(60, 64, 67, 0.15);\n",
              "    fill: var(--button-hover-fill-color);\n",
              "  }\n",
              "\n",
              "  .colab-df-quickchart-complete:disabled,\n",
              "  .colab-df-quickchart-complete:disabled:hover {\n",
              "    background-color: var(--disabled-bg-color);\n",
              "    fill: var(--disabled-fill-color);\n",
              "    box-shadow: none;\n",
              "  }\n",
              "\n",
              "  .colab-df-spinner {\n",
              "    border: 2px solid var(--fill-color);\n",
              "    border-color: transparent;\n",
              "    border-bottom-color: var(--fill-color);\n",
              "    animation:\n",
              "      spin 1s steps(1) infinite;\n",
              "  }\n",
              "\n",
              "  @keyframes spin {\n",
              "    0% {\n",
              "      border-color: transparent;\n",
              "      border-bottom-color: var(--fill-color);\n",
              "      border-left-color: var(--fill-color);\n",
              "    }\n",
              "    20% {\n",
              "      border-color: transparent;\n",
              "      border-left-color: var(--fill-color);\n",
              "      border-top-color: var(--fill-color);\n",
              "    }\n",
              "    30% {\n",
              "      border-color: transparent;\n",
              "      border-left-color: var(--fill-color);\n",
              "      border-top-color: var(--fill-color);\n",
              "      border-right-color: var(--fill-color);\n",
              "    }\n",
              "    40% {\n",
              "      border-color: transparent;\n",
              "      border-right-color: var(--fill-color);\n",
              "      border-top-color: var(--fill-color);\n",
              "    }\n",
              "    60% {\n",
              "      border-color: transparent;\n",
              "      border-right-color: var(--fill-color);\n",
              "    }\n",
              "    80% {\n",
              "      border-color: transparent;\n",
              "      border-right-color: var(--fill-color);\n",
              "      border-bottom-color: var(--fill-color);\n",
              "    }\n",
              "    90% {\n",
              "      border-color: transparent;\n",
              "      border-bottom-color: var(--fill-color);\n",
              "    }\n",
              "  }\n",
              "</style>\n",
              "\n",
              "  <script>\n",
              "    async function quickchart(key) {\n",
              "      const quickchartButtonEl =\n",
              "        document.querySelector('#' + key + ' button');\n",
              "      quickchartButtonEl.disabled = true;  // To prevent multiple clicks.\n",
              "      quickchartButtonEl.classList.add('colab-df-spinner');\n",
              "      try {\n",
              "        const charts = await google.colab.kernel.invokeFunction(\n",
              "            'suggestCharts', [key], {});\n",
              "      } catch (error) {\n",
              "        console.error('Error during call to suggestCharts:', error);\n",
              "      }\n",
              "      quickchartButtonEl.classList.remove('colab-df-spinner');\n",
              "      quickchartButtonEl.classList.add('colab-df-quickchart-complete');\n",
              "    }\n",
              "    (() => {\n",
              "      let quickchartButtonEl =\n",
              "        document.querySelector('#df-08f6970c-c854-4272-9e26-b38bea7f0cc7 button');\n",
              "      quickchartButtonEl.style.display =\n",
              "        google.colab.kernel.accessAllowed ? 'block' : 'none';\n",
              "    })();\n",
              "  </script>\n",
              "</div>\n",
              "    </div>\n",
              "  </div>\n"
            ]
          },
          "metadata": {},
          "execution_count": 60
        }
      ]
    },
    {
      "cell_type": "markdown",
      "source": [
        "B.4) Inspect the dataframe again and discuss: what kind of research questions and/or hypotheses could you investigate?"
      ],
      "metadata": {
        "id": "MwiAkyTNNelf"
      }
    },
    {
      "cell_type": "code",
      "source": [
        "#answer"
      ],
      "metadata": {
        "id": "UD9vHhPcNggX"
      },
      "execution_count": null,
      "outputs": []
    },
    {
      "cell_type": "markdown",
      "source": [
        "B.5) Create a timeline of tweets over years - first converst the string date-time to datetime, then create a line graph. Take some notes of your observations.\n"
      ],
      "metadata": {
        "id": "7OyMdW22NisG"
      }
    },
    {
      "cell_type": "code",
      "source": [
        "#code"
      ],
      "metadata": {
        "id": "bAH_djrkNmJf"
      },
      "execution_count": null,
      "outputs": []
    },
    {
      "cell_type": "markdown",
      "source": [
        "***Note: Exercises B.6) to B.11) are all about pre-processing and \"cleaning\" text. If you're advanced in your Python for text analysis, feel free to address all of the steps below in one piece of code.***"
      ],
      "metadata": {
        "id": "mV31iZI2NuNq"
      }
    },
    {
      "cell_type": "markdown",
      "source": [
        "B.6) Convert the words in the tweets to lowercase. Create a new column for that to keep the original tweets."
      ],
      "metadata": {
        "id": "_LfVXQzZN1CS"
      }
    },
    {
      "cell_type": "code",
      "source": [
        "#code"
      ],
      "metadata": {
        "id": "-i6OEsjlN3cZ"
      },
      "execution_count": null,
      "outputs": []
    },
    {
      "cell_type": "markdown",
      "source": [
        "B.7) Remove the numbers from the tweets."
      ],
      "metadata": {
        "id": "I713iG9JN5L6"
      }
    },
    {
      "cell_type": "code",
      "source": [
        "#code"
      ],
      "metadata": {
        "id": "cb2zqEr4N7ns"
      },
      "execution_count": null,
      "outputs": []
    },
    {
      "cell_type": "markdown",
      "source": [
        "B.8) Remove punctuation from the tweets."
      ],
      "metadata": {
        "id": "iYDozS__N-FJ"
      }
    },
    {
      "cell_type": "code",
      "source": [
        "#code"
      ],
      "metadata": {
        "id": "R3cpb9w9OB2M"
      },
      "execution_count": null,
      "outputs": []
    },
    {
      "cell_type": "markdown",
      "source": [
        "B.9) Strip excessive white spaces from the tweets."
      ],
      "metadata": {
        "id": "3Riq7yStOEWp"
      }
    },
    {
      "cell_type": "code",
      "source": [
        "#code"
      ],
      "metadata": {
        "id": "vocrmoWmOGok"
      },
      "execution_count": null,
      "outputs": []
    },
    {
      "cell_type": "markdown",
      "source": [
        "B.10) Remove the stopwords from the tweets. Compare your \"cleaned-up\" tweets with the originals."
      ],
      "metadata": {
        "id": "dAjO9rYFOMt2"
      }
    },
    {
      "cell_type": "code",
      "source": [
        "#code"
      ],
      "metadata": {
        "id": "pj1HDk-6OOs_"
      },
      "execution_count": null,
      "outputs": []
    },
    {
      "cell_type": "markdown",
      "source": [
        "B.11) Tokenize the tweets.\n"
      ],
      "metadata": {
        "id": "gCGtuiIIOR2Z"
      }
    },
    {
      "cell_type": "code",
      "source": [
        "#code"
      ],
      "metadata": {
        "id": "2fdWbR5zOUHq"
      },
      "execution_count": null,
      "outputs": []
    },
    {
      "cell_type": "markdown",
      "source": [
        "B.12) Create a wordcloud visual based on hashtags. A for-loop might do the trick."
      ],
      "metadata": {
        "id": "M8j1G2-nOWtF"
      }
    },
    {
      "cell_type": "code",
      "source": [
        "#code"
      ],
      "metadata": {
        "id": "y_onaXrNOZHU"
      },
      "execution_count": null,
      "outputs": []
    },
    {
      "cell_type": "markdown",
      "source": [
        "B.13) Discuss the wordcloud - what can it tell you, what are limitations? What hashtags would you filter out and why?"
      ],
      "metadata": {
        "id": "0EW2_hx2Od_u"
      }
    },
    {
      "cell_type": "code",
      "source": [
        "#answer"
      ],
      "metadata": {
        "id": "jjKiiuyUOgaI"
      },
      "execution_count": null,
      "outputs": []
    },
    {
      "cell_type": "markdown",
      "source": [
        "B.14) Create a list of the top 10 most frequent hashtags."
      ],
      "metadata": {
        "id": "qOELs_7UOjdC"
      }
    },
    {
      "cell_type": "code",
      "source": [
        "#code"
      ],
      "metadata": {
        "id": "hCYsbttcOlVm"
      },
      "execution_count": null,
      "outputs": []
    },
    {
      "cell_type": "markdown",
      "source": [
        "B.15) Create a list of the top 10, 20, and 50 user-accounts. Whos is tweeting about \"China\" & \"tech\"?"
      ],
      "metadata": {
        "id": "n-tUsdUvOoz4"
      }
    },
    {
      "cell_type": "code",
      "source": [
        "#code"
      ],
      "metadata": {
        "id": "MAwMky5gOtV3"
      },
      "execution_count": null,
      "outputs": []
    },
    {
      "cell_type": "markdown",
      "source": [
        "B.16) Bonus: try simple topic modeling with the hashtags using a for-loop and LdaModel. Can you discern distinct topics?"
      ],
      "metadata": {
        "id": "9S6FIUqCOvpJ"
      }
    },
    {
      "cell_type": "code",
      "source": [
        "#code"
      ],
      "metadata": {
        "id": "NAZJOV5dOyrO"
      },
      "execution_count": null,
      "outputs": []
    }
  ]
}